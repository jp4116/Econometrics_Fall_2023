{
 "cells": [
  {
   "cell_type": "markdown",
   "id": "97eb18f3-e0d1-456a-a84b-dae04ba3eef7",
   "metadata": {
    "tags": []
   },
   "source": [
    "Jaqueline Pinheiro"
   ]
  },
  {
   "cell_type": "code",
   "execution_count": null,
   "id": "c78dbb22-d517-46d0-8bab-30f80d668293",
   "metadata": {},
   "outputs": [],
   "source": [
    "import pandas as pd\n",
    "import numpy as np\n",
    "import matplotlib.pyplot as plt \n",
    "import scipy.stats as stats\n",
    "from scipy.stats import levene"
   ]
  },
  {
   "cell_type": "markdown",
   "id": "7b833685-06e8-4a67-89c0-2fc90722bb6e",
   "metadata": {},
   "source": [
    "## Question 1\n",
    "#### letter d)"
   ]
  },
  {
   "cell_type": "code",
   "execution_count": 215,
   "id": "1832ab6f-afbd-4c0e-a8c1-948c4baf0f4e",
   "metadata": {
    "tags": []
   },
   "outputs": [
    {
     "data": {
      "text/html": [
       "<div>\n",
       "<style scoped>\n",
       "    .dataframe tbody tr th:only-of-type {\n",
       "        vertical-align: middle;\n",
       "    }\n",
       "\n",
       "    .dataframe tbody tr th {\n",
       "        vertical-align: top;\n",
       "    }\n",
       "\n",
       "    .dataframe thead th {\n",
       "        text-align: right;\n",
       "    }\n",
       "</style>\n",
       "<table border=\"1\" class=\"dataframe\">\n",
       "  <thead>\n",
       "    <tr style=\"text-align: right;\">\n",
       "      <th></th>\n",
       "      <th>lwage</th>\n",
       "      <th>male</th>\n",
       "    </tr>\n",
       "  </thead>\n",
       "  <tbody>\n",
       "    <tr>\n",
       "      <th>0</th>\n",
       "      <td>1.842975</td>\n",
       "      <td>0</td>\n",
       "    </tr>\n",
       "    <tr>\n",
       "      <th>1</th>\n",
       "      <td>1.701063</td>\n",
       "      <td>0</td>\n",
       "    </tr>\n",
       "    <tr>\n",
       "      <th>2</th>\n",
       "      <td>1.292580</td>\n",
       "      <td>0</td>\n",
       "    </tr>\n",
       "    <tr>\n",
       "      <th>3</th>\n",
       "      <td>1.524607</td>\n",
       "      <td>0</td>\n",
       "    </tr>\n",
       "    <tr>\n",
       "      <th>4</th>\n",
       "      <td>0.883006</td>\n",
       "      <td>0</td>\n",
       "    </tr>\n",
       "    <tr>\n",
       "      <th>...</th>\n",
       "      <td>...</td>\n",
       "      <td>...</td>\n",
       "    </tr>\n",
       "    <tr>\n",
       "      <th>3291</th>\n",
       "      <td>1.455614</td>\n",
       "      <td>1</td>\n",
       "    </tr>\n",
       "    <tr>\n",
       "      <th>3292</th>\n",
       "      <td>1.966439</td>\n",
       "      <td>1</td>\n",
       "    </tr>\n",
       "    <tr>\n",
       "      <th>3293</th>\n",
       "      <td>1.512659</td>\n",
       "      <td>1</td>\n",
       "    </tr>\n",
       "    <tr>\n",
       "      <th>3294</th>\n",
       "      <td>1.067848</td>\n",
       "      <td>1</td>\n",
       "    </tr>\n",
       "    <tr>\n",
       "      <th>3295</th>\n",
       "      <td>1.424065</td>\n",
       "      <td>1</td>\n",
       "    </tr>\n",
       "  </tbody>\n",
       "</table>\n",
       "<p>3296 rows × 2 columns</p>\n",
       "</div>"
      ],
      "text/plain": [
       "         lwage  male\n",
       "0     1.842975     0\n",
       "1     1.701063     0\n",
       "2     1.292580     0\n",
       "3     1.524607     0\n",
       "4     0.883006     0\n",
       "...        ...   ...\n",
       "3291  1.455614     1\n",
       "3292  1.966439     1\n",
       "3293  1.512659     1\n",
       "3294  1.067848     1\n",
       "3295  1.424065     1\n",
       "\n",
       "[3296 rows x 2 columns]"
      ]
     },
     "execution_count": 215,
     "metadata": {},
     "output_type": "execute_result"
    }
   ],
   "source": [
    "\n",
    "df = pd.read_excel('wage.xlsx')\n",
    "df['lwage'] = np.log(df['wage'])\n",
    "df = df[['lwage','male']]\n",
    "df"
   ]
  },
  {
   "cell_type": "code",
   "execution_count": 216,
   "id": "873fcfea-8939-4d95-825b-11491dea8e6a",
   "metadata": {
    "tags": []
   },
   "outputs": [
    {
     "name": "stdout",
     "output_type": "stream",
     "text": [
      "T: 2.36042302721787\n",
      "K hat: 7.3781207090510135\n",
      "C statistic: 0.9346380888883526\n",
      "Fail to reject H0: Var female = Var male\n"
     ]
    }
   ],
   "source": [
    "### Robust test\n",
    "\n",
    "# Calculate mean, sample variannce for male and female\n",
    "y_m = df[df['male'] == 1]['lwage']\n",
    "y_f = df[df['male'] == 0]['lwage']\n",
    "n_m = len(y_m)\n",
    "n_f = len(y_f)\n",
    "mean_m = np.mean(y_m)\n",
    "mean_f = np.mean(y_f)\n",
    "s_m = np.var(y_m)\n",
    "s_f = np.var(y_f)\n",
    "\n",
    "# Calculate T\n",
    "T = np.sqrt((n_m*n_f)/(n_m+n_f))*(np.log(s_f) - np.log(s_m))\n",
    "\n",
    "# Calculate K hat\n",
    "k_hat = ((n_m+n_f)*(np.sum((y_f-mean_f)**4) + np.sum((y_m-mean_m)**4)))/((np.sum((y_f-mean_f)**2) + np.sum((y_m-mean_m)**2))**2)\n",
    "\n",
    "# Calculate C statistic\n",
    "c = T/np.sqrt(k_hat - 1)\n",
    "\n",
    "\n",
    "print(\"T:\", T)\n",
    "print(\"K hat:\", k_hat)\n",
    "print(\"C statistic:\", c)\n",
    "if (c > 1.64):\n",
    "    print('Reject H0: Var female > Var male')\n",
    "else:\n",
    "    print('Fail to reject H0: Var female = Var male')"
   ]
  },
  {
   "cell_type": "code",
   "execution_count": 217,
   "id": "a1836144-875e-4a31-bf90-3717fdb40555",
   "metadata": {
    "tags": []
   },
   "outputs": [
    {
     "data": {
      "text/plain": [
       "LeveneResult(statistic=1.402160294849269, pvalue=0.23644763866694196)"
      ]
     },
     "execution_count": 217,
     "metadata": {},
     "output_type": "execute_result"
    }
   ],
   "source": [
    "## Checking with levene\n",
    "\n",
    "levene_test = levene(y_m, y_f)\n",
    "levene_test"
   ]
  },
  {
   "cell_type": "code",
   "execution_count": 218,
   "id": "d2464116-d892-4f13-9ef6-dfc54b160cdc",
   "metadata": {
    "tags": []
   },
   "outputs": [
    {
     "name": "stdout",
     "output_type": "stream",
     "text": [
      "F-statistic: 1.0858707722186254\n",
      "p-value: 0.04734658854082252\n",
      "Reject H0: Var female > Var male\n"
     ]
    }
   ],
   "source": [
    "### Standard (normal theory) test\n",
    "\n",
    "# Calculate the sample variances\n",
    "var_f = np.var(y_f, ddof=1)\n",
    "var_m = np.var(y_m, ddof=1)\n",
    " \n",
    "# Calculate the F-statistic\n",
    "f_value = var_f / var_m \n",
    " \n",
    "# Calculate the degrees of freedom\n",
    "df_f = n_f - 1\n",
    "df_m = n_m - 1\n",
    " \n",
    "# Calculate the p-value\n",
    "p_value = 1 - stats.f.cdf(f_value, df_f, df_m)\n",
    " \n",
    "# Print the results\n",
    "print(\"F-statistic:\", f_value)\n",
    "print(\"p-value:\", p_value)\n",
    "if (p_value<0.05):\n",
    "    print('Reject H0: Var female > Var male')\n",
    "else:\n",
    "    print('Fail to reject H0: Var female = Var male')"
   ]
  },
  {
   "cell_type": "markdown",
   "id": "c88f97e4-b0c9-4251-9bde-4ec0bca471a0",
   "metadata": {},
   "source": [
    "Therefore, we have found that the standard test rejects the hypothesis of equality, but the new robust test\n",
    "does not reject it."
   ]
  },
  {
   "cell_type": "markdown",
   "id": "50cc27e3-e561-420c-87c6-800f2eb07cae",
   "metadata": {},
   "source": [
    "## Question 2\n",
    "#### letter c)\n"
   ]
  },
  {
   "cell_type": "code",
   "execution_count": 219,
   "id": "1ada1156-6979-475d-a9c2-a9d337bdda9d",
   "metadata": {
    "tags": []
   },
   "outputs": [
    {
     "name": "stdout",
     "output_type": "stream",
     "text": [
      "Variance when n > p:  [ 0.5    0.765  1.143  1.727  2.75   5.    14.   ]\n",
      "Variance when n < p:  [30.     7.5    4.286  3.     2.308  1.875  1.579  1.364  1.2    1.071\n",
      "  0.968  0.882  0.811  0.75 ]\n",
      "Biaswhen n < p:  [0.032 0.118 0.189 0.25  0.302 0.348 0.388 0.423 0.455 0.483 0.508 0.531\n",
      " 0.552 0.571]\n"
     ]
    }
   ],
   "source": [
    "n = 300\n",
    "p =[]\n",
    "for j in range(21):\n",
    "    p.append(100 + 30*j) \n",
    "\n",
    "v_n_greater = []\n",
    "v_n_smaller = []\n",
    "b = []\n",
    "aux_v_n_greater = []\n",
    "aux_v_n_smaller = []\n",
    "for i in p:\n",
    "    if i < n:\n",
    "        v_n_greater.append(i/(n-i))\n",
    "        aux_v_n_greater.append(i)\n",
    "        \n",
    "    if i > n:\n",
    "        v_n_smaller.append(n/(i-n))\n",
    "        b.append((i-n)/i)\n",
    "        aux_v_n_smaller.append(i)\n",
    "        \n",
    "print('Variance when n > p: ', np.round(v_n_greater,3))\n",
    "print('Variance when n < p: ', np.round(v_n_smaller,3))\n",
    "print('Biaswhen n < p: ',np.round(b,3))"
   ]
  },
  {
   "cell_type": "code",
   "execution_count": 220,
   "id": "c3f1928f-bef2-4dc1-a49f-17a01d9d5b0f",
   "metadata": {
    "tags": []
   },
   "outputs": [
    {
     "data": {
      "image/png": "[encoded data removed]",
      "text/plain": [
       "<Figure size 640x480 with 1 Axes>"
      ]
     },
     "metadata": {},
     "output_type": "display_data"
    }
   ],
   "source": [
    "plt.plot(aux_v_n_greater, v_n_greater, label='variance')\n",
    "plt.legend()\n",
    "plt.show()"
   ]
  },
  {
   "cell_type": "code",
   "execution_count": 221,
   "id": "6c694e37-b441-4faf-9c8e-c1210cbabd4a",
   "metadata": {
    "tags": []
   },
   "outputs": [
    {
     "data": {
      "image/png": "[encoded data removed]",
      "text/plain": [
       "<Figure size 640x480 with 1 Axes>"
      ]
     },
     "metadata": {},
     "output_type": "display_data"
    }
   ],
   "source": [
    "plt.plot(aux_v_n_smaller, v_n_smaller, label='variance')\n",
    "plt.plot(aux_v_n_smaller, b, label='Bias')\n",
    "plt.legend()\n",
    "plt.show()"
   ]
  },
  {
   "cell_type": "code",
   "execution_count": 222,
   "id": "ff69fd21-72cc-4f4c-858a-622621058867",
   "metadata": {
    "tags": []
   },
   "outputs": [
    {
     "data": {
      "image/png": "[encoded data removed]",
      "text/plain": [
       "<Figure size 640x480 with 1 Axes>"
      ]
     },
     "metadata": {},
     "output_type": "display_data"
    }
   ],
   "source": [
    "## Combining plots\n",
    "plt.plot(aux_v_n_greater + aux_v_n_smaller, v_n_greater + v_n_smaller, label='variance')\n",
    "plt.plot(aux_v_n_greater + aux_v_n_smaller, [0,0,0,0,0,0,0] + b, label='Bias')\n",
    "plt.legend()\n",
    "plt.show()"
   ]
  },
  {
   "cell_type": "markdown",
   "id": "6a35cbf6-ae3e-4df6-86d2-29dd10150674",
   "metadata": {},
   "source": [
    "## Question 5\n",
    "#### letter c)\n"
   ]
  },
  {
   "cell_type": "code",
   "execution_count": 234,
   "id": "a5a08947-59dc-4c94-b303-a39aa99734f4",
   "metadata": {
    "tags": []
   },
   "outputs": [],
   "source": [
    "## Simulating Yi\n",
    "y_1 = [0]\n",
    "y_2 = [0]\n",
    "y_3 = [0]\n",
    "e = np.random.normal(0, 1, 100)\n",
    "x=np.arange(1, 101, 1, dtype=int)\n",
    "   \n",
    "for t in range(1, 100):\n",
    "    y_1.append(0 * y_1[t-1] + e[t])\n",
    "    y_2.append(0.5 * y_2[t-1] + e[t])\n",
    "    y_3.append(0.95 * y_3[t-1] + e[t])\n"
   ]
  },
  {
   "cell_type": "code",
   "execution_count": 235,
   "id": "566bc9e3-df4e-4fa1-bbf1-6b4df610c305",
   "metadata": {
    "tags": []
   },
   "outputs": [
    {
     "data": {
      "image/png": "[encoded data removed]",
      "text/plain": [
       "<Figure size 640x480 with 1 Axes>"
      ]
     },
     "metadata": {},
     "output_type": "display_data"
    }
   ],
   "source": [
    "plt.plot(x, y_1, color =\"red\",label=\"rho=0\") \n",
    "plt.plot(x, y_2, color =\"blue\",label=\"rho=0.5\") \n",
    "plt.plot(x, y_3, color =\"black\",label=\"rho=0.95\") \n",
    "plt.legend()\n",
    "plt.xlabel(\"time\")\n",
    "plt.ylabel(\"y(t)\")\n",
    "plt.show()"
   ]
  },
  {
   "cell_type": "code",
   "execution_count": 249,
   "id": "1bae6132-79d6-424c-aca7-3554537e952e",
   "metadata": {
    "tags": []
   },
   "outputs": [
    {
     "data": {
      "text/html": [
       "<table class=\"simpletable\">\n",
       "<caption>OLS Regression Results</caption>\n",
       "<tr>\n",
       "  <th>Dep. Variable:</th>            <td>y</td>        <th>  R-squared (uncentered):</th>      <td>   0.002</td>\n",
       "</tr>\n",
       "<tr>\n",
       "  <th>Model:</th>                   <td>OLS</td>       <th>  Adj. R-squared (uncentered):</th> <td>  -0.008</td>\n",
       "</tr>\n",
       "<tr>\n",
       "  <th>Method:</th>             <td>Least Squares</td>  <th>  F-statistic:       </th>          <td>  0.2078</td>\n",
       "</tr>\n",
       "<tr>\n",
       "  <th>Date:</th>             <td>Wed, 01 Nov 2023</td> <th>  Prob (F-statistic):</th>           <td> 0.650</td> \n",
       "</tr>\n",
       "<tr>\n",
       "  <th>Time:</th>                 <td>16:10:15</td>     <th>  Log-Likelihood:    </th>          <td> -135.63</td>\n",
       "</tr>\n",
       "<tr>\n",
       "  <th>No. Observations:</th>      <td>   100</td>      <th>  AIC:               </th>          <td>   273.3</td>\n",
       "</tr>\n",
       "<tr>\n",
       "  <th>Df Residuals:</th>          <td>    99</td>      <th>  BIC:               </th>          <td>   275.9</td>\n",
       "</tr>\n",
       "<tr>\n",
       "  <th>Df Model:</th>              <td>     1</td>      <th>                     </th>              <td> </td>   \n",
       "</tr>\n",
       "<tr>\n",
       "  <th>Covariance Type:</th>      <td>nonrobust</td>    <th>                     </th>              <td> </td>   \n",
       "</tr>\n",
       "</table>\n",
       "<table class=\"simpletable\">\n",
       "<tr>\n",
       "   <td></td>     <th>coef</th>     <th>std err</th>      <th>t</th>      <th>P>|t|</th>  <th>[0.025</th>    <th>0.975]</th>  \n",
       "</tr>\n",
       "<tr>\n",
       "  <th>x1</th> <td>    0.0007</td> <td>    0.002</td> <td>    0.456</td> <td> 0.650</td> <td>   -0.002</td> <td>    0.004</td>\n",
       "</tr>\n",
       "</table>\n",
       "<table class=\"simpletable\">\n",
       "<tr>\n",
       "  <th>Omnibus:</th>       <td> 0.367</td> <th>  Durbin-Watson:     </th> <td>   2.046</td>\n",
       "</tr>\n",
       "<tr>\n",
       "  <th>Prob(Omnibus):</th> <td> 0.833</td> <th>  Jarque-Bera (JB):  </th> <td>   0.096</td>\n",
       "</tr>\n",
       "<tr>\n",
       "  <th>Skew:</th>          <td> 0.048</td> <th>  Prob(JB):          </th> <td>   0.953</td>\n",
       "</tr>\n",
       "<tr>\n",
       "  <th>Kurtosis:</th>      <td> 3.117</td> <th>  Cond. No.          </th> <td>    1.00</td>\n",
       "</tr>\n",
       "</table><br/><br/>Notes:<br/>[1] R² is computed without centering (uncentered) since the model does not contain a constant.<br/>[2] Standard Errors assume that the covariance matrix of the errors is correctly specified."
      ],
      "text/latex": [
       "\\begin{center}\n",
       "\\begin{tabular}{lclc}\n",
       "\\toprule\n",
       "\\textbf{Dep. Variable:}    &        y         & \\textbf{  R-squared (uncentered):}      &     0.002   \\\\\n",
       "\\textbf{Model:}            &       OLS        & \\textbf{  Adj. R-squared (uncentered):} &    -0.008   \\\\\n",
       "\\textbf{Method:}           &  Least Squares   & \\textbf{  F-statistic:       }          &    0.2078   \\\\\n",
       "\\textbf{Date:}             & Wed, 01 Nov 2023 & \\textbf{  Prob (F-statistic):}          &    0.650    \\\\\n",
       "\\textbf{Time:}             &     16:10:15     & \\textbf{  Log-Likelihood:    }          &   -135.63   \\\\\n",
       "\\textbf{No. Observations:} &         100      & \\textbf{  AIC:               }          &     273.3   \\\\\n",
       "\\textbf{Df Residuals:}     &          99      & \\textbf{  BIC:               }          &     275.9   \\\\\n",
       "\\textbf{Df Model:}         &           1      & \\textbf{                     }          &             \\\\\n",
       "\\textbf{Covariance Type:}  &    nonrobust     & \\textbf{                     }          &             \\\\\n",
       "\\bottomrule\n",
       "\\end{tabular}\n",
       "\\begin{tabular}{lcccccc}\n",
       "            & \\textbf{coef} & \\textbf{std err} & \\textbf{t} & \\textbf{P$> |$t$|$} & \\textbf{[0.025} & \\textbf{0.975]}  \\\\\n",
       "\\midrule\n",
       "\\textbf{x1} &       0.0007  &        0.002     &     0.456  &         0.650        &       -0.002    &        0.004     \\\\\n",
       "\\bottomrule\n",
       "\\end{tabular}\n",
       "\\begin{tabular}{lclc}\n",
       "\\textbf{Omnibus:}       &  0.367 & \\textbf{  Durbin-Watson:     } &    2.046  \\\\\n",
       "\\textbf{Prob(Omnibus):} &  0.833 & \\textbf{  Jarque-Bera (JB):  } &    0.096  \\\\\n",
       "\\textbf{Skew:}          &  0.048 & \\textbf{  Prob(JB):          } &    0.953  \\\\\n",
       "\\textbf{Kurtosis:}      &  3.117 & \\textbf{  Cond. No.          } &     1.00  \\\\\n",
       "\\bottomrule\n",
       "\\end{tabular}\n",
       "%\\caption{OLS Regression Results}\n",
       "\\end{center}\n",
       "\n",
       "Notes: \\newline\n",
       " [1] R² is computed without centering (uncentered) since the model does not contain a constant. \\newline\n",
       " [2] Standard Errors assume that the covariance matrix of the errors is correctly specified."
      ],
      "text/plain": [
       "<class 'statsmodels.iolib.summary.Summary'>\n",
       "\"\"\"\n",
       "                                 OLS Regression Results                                \n",
       "=======================================================================================\n",
       "Dep. Variable:                      y   R-squared (uncentered):                   0.002\n",
       "Model:                            OLS   Adj. R-squared (uncentered):             -0.008\n",
       "Method:                 Least Squares   F-statistic:                             0.2078\n",
       "Date:                Wed, 01 Nov 2023   Prob (F-statistic):                       0.650\n",
       "Time:                        16:10:15   Log-Likelihood:                         -135.63\n",
       "No. Observations:                 100   AIC:                                      273.3\n",
       "Df Residuals:                      99   BIC:                                      275.9\n",
       "Df Model:                           1                                                  \n",
       "Covariance Type:            nonrobust                                                  \n",
       "==============================================================================\n",
       "                 coef    std err          t      P>|t|      [0.025      0.975]\n",
       "------------------------------------------------------------------------------\n",
       "x1             0.0007      0.002      0.456      0.650      -0.002       0.004\n",
       "==============================================================================\n",
       "Omnibus:                        0.367   Durbin-Watson:                   2.046\n",
       "Prob(Omnibus):                  0.833   Jarque-Bera (JB):                0.096\n",
       "Skew:                           0.048   Prob(JB):                        0.953\n",
       "Kurtosis:                       3.117   Cond. No.                         1.00\n",
       "==============================================================================\n",
       "\n",
       "Notes:\n",
       "[1] R² is computed without centering (uncentered) since the model does not contain a constant.\n",
       "[2] Standard Errors assume that the covariance matrix of the errors is correctly specified.\n",
       "\"\"\""
      ]
     },
     "execution_count": 249,
     "metadata": {},
     "output_type": "execute_result"
    }
   ],
   "source": [
    "# Fitting Linear model\n",
    "\n",
    "Y =y_1\n",
    "X = x\n",
    "\n",
    "model_1 = sm.OLS(Y,X)\n",
    "fitted_model_1 = model_1.fit()\n",
    "fitted_model_1.summary()"
   ]
  },
  {
   "cell_type": "code",
   "execution_count": 250,
   "id": "10b6b06a-82ad-4587-b8f3-f0a27a61e772",
   "metadata": {
    "tags": []
   },
   "outputs": [
    {
     "name": "stdout",
     "output_type": "stream",
     "text": [
      "For the case tha rho eqquals to 0\n",
      "The OLS estimator is:  0.0007\n",
      "The t-stat is:  0.4558\n"
     ]
    }
   ],
   "source": [
    "print(\"For the case tha rho equals to 0\")\n",
    "print(\"The OLS estimator is: \", np.round(fitted_model_1.params[0],4))\n",
    "print(\"The t-stat is: \", np.round(fitted_model_1.tvalues[0],4))"
   ]
  },
  {
   "cell_type": "code",
   "execution_count": 251,
   "id": "aa983a4f-bdcf-41c6-9c12-860ad307c5fa",
   "metadata": {
    "tags": []
   },
   "outputs": [
    {
     "data": {
      "text/html": [
       "<table class=\"simpletable\">\n",
       "<caption>OLS Regression Results</caption>\n",
       "<tr>\n",
       "  <th>Dep. Variable:</th>            <td>y</td>        <th>  R-squared (uncentered):</th>      <td>   0.009</td>\n",
       "</tr>\n",
       "<tr>\n",
       "  <th>Model:</th>                   <td>OLS</td>       <th>  Adj. R-squared (uncentered):</th> <td>  -0.001</td>\n",
       "</tr>\n",
       "<tr>\n",
       "  <th>Method:</th>             <td>Least Squares</td>  <th>  F-statistic:       </th>          <td>  0.8960</td>\n",
       "</tr>\n",
       "<tr>\n",
       "  <th>Date:</th>             <td>Wed, 01 Nov 2023</td> <th>  Prob (F-statistic):</th>           <td> 0.346</td> \n",
       "</tr>\n",
       "<tr>\n",
       "  <th>Time:</th>                 <td>16:10:49</td>     <th>  Log-Likelihood:    </th>          <td> -142.66</td>\n",
       "</tr>\n",
       "<tr>\n",
       "  <th>No. Observations:</th>      <td>   100</td>      <th>  AIC:               </th>          <td>   287.3</td>\n",
       "</tr>\n",
       "<tr>\n",
       "  <th>Df Residuals:</th>          <td>    99</td>      <th>  BIC:               </th>          <td>   289.9</td>\n",
       "</tr>\n",
       "<tr>\n",
       "  <th>Df Model:</th>              <td>     1</td>      <th>                     </th>              <td> </td>   \n",
       "</tr>\n",
       "<tr>\n",
       "  <th>Covariance Type:</th>      <td>nonrobust</td>    <th>                     </th>              <td> </td>   \n",
       "</tr>\n",
       "</table>\n",
       "<table class=\"simpletable\">\n",
       "<tr>\n",
       "   <td></td>     <th>coef</th>     <th>std err</th>      <th>t</th>      <th>P>|t|</th>  <th>[0.025</th>    <th>0.975]</th>  \n",
       "</tr>\n",
       "<tr>\n",
       "  <th>x1</th> <td>    0.0016</td> <td>    0.002</td> <td>    0.947</td> <td> 0.346</td> <td>   -0.002</td> <td>    0.005</td>\n",
       "</tr>\n",
       "</table>\n",
       "<table class=\"simpletable\">\n",
       "<tr>\n",
       "  <th>Omnibus:</th>       <td> 1.580</td> <th>  Durbin-Watson:     </th> <td>   1.236</td>\n",
       "</tr>\n",
       "<tr>\n",
       "  <th>Prob(Omnibus):</th> <td> 0.454</td> <th>  Jarque-Bera (JB):  </th> <td>   1.246</td>\n",
       "</tr>\n",
       "<tr>\n",
       "  <th>Skew:</th>          <td> 0.271</td> <th>  Prob(JB):          </th> <td>   0.536</td>\n",
       "</tr>\n",
       "<tr>\n",
       "  <th>Kurtosis:</th>      <td> 3.077</td> <th>  Cond. No.          </th> <td>    1.00</td>\n",
       "</tr>\n",
       "</table><br/><br/>Notes:<br/>[1] R² is computed without centering (uncentered) since the model does not contain a constant.<br/>[2] Standard Errors assume that the covariance matrix of the errors is correctly specified."
      ],
      "text/latex": [
       "\\begin{center}\n",
       "\\begin{tabular}{lclc}\n",
       "\\toprule\n",
       "\\textbf{Dep. Variable:}    &        y         & \\textbf{  R-squared (uncentered):}      &     0.009   \\\\\n",
       "\\textbf{Model:}            &       OLS        & \\textbf{  Adj. R-squared (uncentered):} &    -0.001   \\\\\n",
       "\\textbf{Method:}           &  Least Squares   & \\textbf{  F-statistic:       }          &    0.8960   \\\\\n",
       "\\textbf{Date:}             & Wed, 01 Nov 2023 & \\textbf{  Prob (F-statistic):}          &    0.346    \\\\\n",
       "\\textbf{Time:}             &     16:10:49     & \\textbf{  Log-Likelihood:    }          &   -142.66   \\\\\n",
       "\\textbf{No. Observations:} &         100      & \\textbf{  AIC:               }          &     287.3   \\\\\n",
       "\\textbf{Df Residuals:}     &          99      & \\textbf{  BIC:               }          &     289.9   \\\\\n",
       "\\textbf{Df Model:}         &           1      & \\textbf{                     }          &             \\\\\n",
       "\\textbf{Covariance Type:}  &    nonrobust     & \\textbf{                     }          &             \\\\\n",
       "\\bottomrule\n",
       "\\end{tabular}\n",
       "\\begin{tabular}{lcccccc}\n",
       "            & \\textbf{coef} & \\textbf{std err} & \\textbf{t} & \\textbf{P$> |$t$|$} & \\textbf{[0.025} & \\textbf{0.975]}  \\\\\n",
       "\\midrule\n",
       "\\textbf{x1} &       0.0016  &        0.002     &     0.947  &         0.346        &       -0.002    &        0.005     \\\\\n",
       "\\bottomrule\n",
       "\\end{tabular}\n",
       "\\begin{tabular}{lclc}\n",
       "\\textbf{Omnibus:}       &  1.580 & \\textbf{  Durbin-Watson:     } &    1.236  \\\\\n",
       "\\textbf{Prob(Omnibus):} &  0.454 & \\textbf{  Jarque-Bera (JB):  } &    1.246  \\\\\n",
       "\\textbf{Skew:}          &  0.271 & \\textbf{  Prob(JB):          } &    0.536  \\\\\n",
       "\\textbf{Kurtosis:}      &  3.077 & \\textbf{  Cond. No.          } &     1.00  \\\\\n",
       "\\bottomrule\n",
       "\\end{tabular}\n",
       "%\\caption{OLS Regression Results}\n",
       "\\end{center}\n",
       "\n",
       "Notes: \\newline\n",
       " [1] R² is computed without centering (uncentered) since the model does not contain a constant. \\newline\n",
       " [2] Standard Errors assume that the covariance matrix of the errors is correctly specified."
      ],
      "text/plain": [
       "<class 'statsmodels.iolib.summary.Summary'>\n",
       "\"\"\"\n",
       "                                 OLS Regression Results                                \n",
       "=======================================================================================\n",
       "Dep. Variable:                      y   R-squared (uncentered):                   0.009\n",
       "Model:                            OLS   Adj. R-squared (uncentered):             -0.001\n",
       "Method:                 Least Squares   F-statistic:                             0.8960\n",
       "Date:                Wed, 01 Nov 2023   Prob (F-statistic):                       0.346\n",
       "Time:                        16:10:49   Log-Likelihood:                         -142.66\n",
       "No. Observations:                 100   AIC:                                      287.3\n",
       "Df Residuals:                      99   BIC:                                      289.9\n",
       "Df Model:                           1                                                  \n",
       "Covariance Type:            nonrobust                                                  \n",
       "==============================================================================\n",
       "                 coef    std err          t      P>|t|      [0.025      0.975]\n",
       "------------------------------------------------------------------------------\n",
       "x1             0.0016      0.002      0.947      0.346      -0.002       0.005\n",
       "==============================================================================\n",
       "Omnibus:                        1.580   Durbin-Watson:                   1.236\n",
       "Prob(Omnibus):                  0.454   Jarque-Bera (JB):                1.246\n",
       "Skew:                           0.271   Prob(JB):                        0.536\n",
       "Kurtosis:                       3.077   Cond. No.                         1.00\n",
       "==============================================================================\n",
       "\n",
       "Notes:\n",
       "[1] R² is computed without centering (uncentered) since the model does not contain a constant.\n",
       "[2] Standard Errors assume that the covariance matrix of the errors is correctly specified.\n",
       "\"\"\""
      ]
     },
     "execution_count": 251,
     "metadata": {},
     "output_type": "execute_result"
    }
   ],
   "source": [
    "Y =y_2\n",
    "X = x\n",
    "\n",
    "model_2 = sm.OLS(Y,X)\n",
    "fitted_model_2 = model_2.fit()\n",
    "fitted_model_2.summary()"
   ]
  },
  {
   "cell_type": "code",
   "execution_count": 252,
   "id": "72685e7f-ffae-438a-88a1-f03658c767fa",
   "metadata": {
    "tags": []
   },
   "outputs": [
    {
     "name": "stdout",
     "output_type": "stream",
     "text": [
      "For the case tha rho eqquals to 0.5\n",
      "The OLS estimator is:  0.0016\n",
      "The t-stat is:  0.9466\n"
     ]
    }
   ],
   "source": [
    "print(\"For the case tha rho equals to 0.5\")\n",
    "print(\"The OLS estimator is: \", np.round(fitted_model_2.params[0],4))\n",
    "print(\"The t-stat is: \", np.round(fitted_model_2.tvalues[0],4))"
   ]
  },
  {
   "cell_type": "code",
   "execution_count": 253,
   "id": "64c68035-a79d-4493-aebb-f6e8c65688ad",
   "metadata": {
    "tags": []
   },
   "outputs": [
    {
     "data": {
      "text/html": [
       "<table class=\"simpletable\">\n",
       "<caption>OLS Regression Results</caption>\n",
       "<tr>\n",
       "  <th>Dep. Variable:</th>            <td>y</td>        <th>  R-squared (uncentered):</th>      <td>   0.223</td>\n",
       "</tr>\n",
       "<tr>\n",
       "  <th>Model:</th>                   <td>OLS</td>       <th>  Adj. R-squared (uncentered):</th> <td>   0.216</td>\n",
       "</tr>\n",
       "<tr>\n",
       "  <th>Method:</th>             <td>Least Squares</td>  <th>  F-statistic:       </th>          <td>   28.49</td>\n",
       "</tr>\n",
       "<tr>\n",
       "  <th>Date:</th>             <td>Wed, 01 Nov 2023</td> <th>  Prob (F-statistic):</th>          <td>5.98e-07</td>\n",
       "</tr>\n",
       "<tr>\n",
       "  <th>Time:</th>                 <td>16:11:51</td>     <th>  Log-Likelihood:    </th>          <td> -193.46</td>\n",
       "</tr>\n",
       "<tr>\n",
       "  <th>No. Observations:</th>      <td>   100</td>      <th>  AIC:               </th>          <td>   388.9</td>\n",
       "</tr>\n",
       "<tr>\n",
       "  <th>Df Residuals:</th>          <td>    99</td>      <th>  BIC:               </th>          <td>   391.5</td>\n",
       "</tr>\n",
       "<tr>\n",
       "  <th>Df Model:</th>              <td>     1</td>      <th>                     </th>              <td> </td>   \n",
       "</tr>\n",
       "<tr>\n",
       "  <th>Covariance Type:</th>      <td>nonrobust</td>    <th>                     </th>              <td> </td>   \n",
       "</tr>\n",
       "</table>\n",
       "<table class=\"simpletable\">\n",
       "<tr>\n",
       "   <td></td>     <th>coef</th>     <th>std err</th>      <th>t</th>      <th>P>|t|</th>  <th>[0.025</th>    <th>0.975]</th>  \n",
       "</tr>\n",
       "<tr>\n",
       "  <th>x1</th> <td>    0.0154</td> <td>    0.003</td> <td>    5.338</td> <td> 0.000</td> <td>    0.010</td> <td>    0.021</td>\n",
       "</tr>\n",
       "</table>\n",
       "<table class=\"simpletable\">\n",
       "<tr>\n",
       "  <th>Omnibus:</th>       <td> 8.206</td> <th>  Durbin-Watson:     </th> <td>   0.328</td>\n",
       "</tr>\n",
       "<tr>\n",
       "  <th>Prob(Omnibus):</th> <td> 0.017</td> <th>  Jarque-Bera (JB):  </th> <td>   3.357</td>\n",
       "</tr>\n",
       "<tr>\n",
       "  <th>Skew:</th>          <td>-0.110</td> <th>  Prob(JB):          </th> <td>   0.187</td>\n",
       "</tr>\n",
       "<tr>\n",
       "  <th>Kurtosis:</th>      <td> 2.130</td> <th>  Cond. No.          </th> <td>    1.00</td>\n",
       "</tr>\n",
       "</table><br/><br/>Notes:<br/>[1] R² is computed without centering (uncentered) since the model does not contain a constant.<br/>[2] Standard Errors assume that the covariance matrix of the errors is correctly specified."
      ],
      "text/latex": [
       "\\begin{center}\n",
       "\\begin{tabular}{lclc}\n",
       "\\toprule\n",
       "\\textbf{Dep. Variable:}    &        y         & \\textbf{  R-squared (uncentered):}      &     0.223   \\\\\n",
       "\\textbf{Model:}            &       OLS        & \\textbf{  Adj. R-squared (uncentered):} &     0.216   \\\\\n",
       "\\textbf{Method:}           &  Least Squares   & \\textbf{  F-statistic:       }          &     28.49   \\\\\n",
       "\\textbf{Date:}             & Wed, 01 Nov 2023 & \\textbf{  Prob (F-statistic):}          &  5.98e-07   \\\\\n",
       "\\textbf{Time:}             &     16:11:51     & \\textbf{  Log-Likelihood:    }          &   -193.46   \\\\\n",
       "\\textbf{No. Observations:} &         100      & \\textbf{  AIC:               }          &     388.9   \\\\\n",
       "\\textbf{Df Residuals:}     &          99      & \\textbf{  BIC:               }          &     391.5   \\\\\n",
       "\\textbf{Df Model:}         &           1      & \\textbf{                     }          &             \\\\\n",
       "\\textbf{Covariance Type:}  &    nonrobust     & \\textbf{                     }          &             \\\\\n",
       "\\bottomrule\n",
       "\\end{tabular}\n",
       "\\begin{tabular}{lcccccc}\n",
       "            & \\textbf{coef} & \\textbf{std err} & \\textbf{t} & \\textbf{P$> |$t$|$} & \\textbf{[0.025} & \\textbf{0.975]}  \\\\\n",
       "\\midrule\n",
       "\\textbf{x1} &       0.0154  &        0.003     &     5.338  &         0.000        &        0.010    &        0.021     \\\\\n",
       "\\bottomrule\n",
       "\\end{tabular}\n",
       "\\begin{tabular}{lclc}\n",
       "\\textbf{Omnibus:}       &  8.206 & \\textbf{  Durbin-Watson:     } &    0.328  \\\\\n",
       "\\textbf{Prob(Omnibus):} &  0.017 & \\textbf{  Jarque-Bera (JB):  } &    3.357  \\\\\n",
       "\\textbf{Skew:}          & -0.110 & \\textbf{  Prob(JB):          } &    0.187  \\\\\n",
       "\\textbf{Kurtosis:}      &  2.130 & \\textbf{  Cond. No.          } &     1.00  \\\\\n",
       "\\bottomrule\n",
       "\\end{tabular}\n",
       "%\\caption{OLS Regression Results}\n",
       "\\end{center}\n",
       "\n",
       "Notes: \\newline\n",
       " [1] R² is computed without centering (uncentered) since the model does not contain a constant. \\newline\n",
       " [2] Standard Errors assume that the covariance matrix of the errors is correctly specified."
      ],
      "text/plain": [
       "<class 'statsmodels.iolib.summary.Summary'>\n",
       "\"\"\"\n",
       "                                 OLS Regression Results                                \n",
       "=======================================================================================\n",
       "Dep. Variable:                      y   R-squared (uncentered):                   0.223\n",
       "Model:                            OLS   Adj. R-squared (uncentered):              0.216\n",
       "Method:                 Least Squares   F-statistic:                              28.49\n",
       "Date:                Wed, 01 Nov 2023   Prob (F-statistic):                    5.98e-07\n",
       "Time:                        16:11:51   Log-Likelihood:                         -193.46\n",
       "No. Observations:                 100   AIC:                                      388.9\n",
       "Df Residuals:                      99   BIC:                                      391.5\n",
       "Df Model:                           1                                                  \n",
       "Covariance Type:            nonrobust                                                  \n",
       "==============================================================================\n",
       "                 coef    std err          t      P>|t|      [0.025      0.975]\n",
       "------------------------------------------------------------------------------\n",
       "x1             0.0154      0.003      5.338      0.000       0.010       0.021\n",
       "==============================================================================\n",
       "Omnibus:                        8.206   Durbin-Watson:                   0.328\n",
       "Prob(Omnibus):                  0.017   Jarque-Bera (JB):                3.357\n",
       "Skew:                          -0.110   Prob(JB):                        0.187\n",
       "Kurtosis:                       2.130   Cond. No.                         1.00\n",
       "==============================================================================\n",
       "\n",
       "Notes:\n",
       "[1] R² is computed without centering (uncentered) since the model does not contain a constant.\n",
       "[2] Standard Errors assume that the covariance matrix of the errors is correctly specified.\n",
       "\"\"\""
      ]
     },
     "execution_count": 253,
     "metadata": {},
     "output_type": "execute_result"
    }
   ],
   "source": [
    "Y =y_3\n",
    "X = x\n",
    "\n",
    "model_3 = sm.OLS(Y,X)\n",
    "fitted_model_3 = model_3.fit()\n",
    "fitted_model_3.summary()"
   ]
  },
  {
   "cell_type": "code",
   "execution_count": 255,
   "id": "bf201824-1061-4a81-8e7d-a953a08bee0b",
   "metadata": {
    "tags": []
   },
   "outputs": [
    {
     "name": "stdout",
     "output_type": "stream",
     "text": [
      "For the case tha rho eqquals to 0.95\n",
      "The OLS estimator is:  0.0154\n",
      "The t-stat is:  5.338\n"
     ]
    }
   ],
   "source": [
    "print(\"For the case tha rho equals to 0.95\")\n",
    "print(\"The OLS estimator is: \", np.round(fitted_model_3.params[0],4))\n",
    "print(\"The t-stat is: \", np.round(fitted_model_3.tvalues[0],4))"
   ]
  },
  {
   "cell_type": "markdown",
   "id": "a58ab4d5-cbad-4fef-a4ef-62b8de22c096",
   "metadata": {},
   "source": [
    "At 5% of sig. level, we fail to reject H0 for $\\rho$ = 0 and $\\rho$ = 0.5, whereas we are able to reject H0 for $\\rho$ = 0.95. This suggests that the serial autocorrelation makes $\\epsilon_t$ to\n",
    "deviate from 0, keepig it at this other level."
   ]
  },
  {
   "cell_type": "markdown",
   "id": "ed57cdeb-c015-4f1b-9b1c-55f684bcbbae",
   "metadata": {},
   "source": [
    "#### letter d)"
   ]
  },
  {
   "cell_type": "code",
   "execution_count": 256,
   "id": "180d7eeb-1736-427a-ae60-00ecb0d2c223",
   "metadata": {
    "tags": []
   },
   "outputs": [
    {
     "data": {
      "text/html": [
       "<table class=\"simpletable\">\n",
       "<caption>OLS Regression Results</caption>\n",
       "<tr>\n",
       "  <th>Dep. Variable:</th>            <td>y</td>        <th>  R-squared (uncentered):</th>      <td>   0.002</td>\n",
       "</tr>\n",
       "<tr>\n",
       "  <th>Model:</th>                   <td>OLS</td>       <th>  Adj. R-squared (uncentered):</th> <td>  -0.008</td>\n",
       "</tr>\n",
       "<tr>\n",
       "  <th>Method:</th>             <td>Least Squares</td>  <th>  F-statistic:       </th>          <td>  0.3421</td>\n",
       "</tr>\n",
       "<tr>\n",
       "  <th>Date:</th>             <td>Wed, 01 Nov 2023</td> <th>  Prob (F-statistic):</th>           <td> 0.560</td> \n",
       "</tr>\n",
       "<tr>\n",
       "  <th>Time:</th>                 <td>17:25:45</td>     <th>  Log-Likelihood:    </th>          <td> -135.63</td>\n",
       "</tr>\n",
       "<tr>\n",
       "  <th>No. Observations:</th>      <td>   100</td>      <th>  AIC:               </th>          <td>   273.3</td>\n",
       "</tr>\n",
       "<tr>\n",
       "  <th>Df Residuals:</th>          <td>    99</td>      <th>  BIC:               </th>          <td>   275.9</td>\n",
       "</tr>\n",
       "<tr>\n",
       "  <th>Df Model:</th>              <td>     1</td>      <th>                     </th>              <td> </td>   \n",
       "</tr>\n",
       "<tr>\n",
       "  <th>Covariance Type:</th>         <td>HAC</td>       <th>                     </th>              <td> </td>   \n",
       "</tr>\n",
       "</table>\n",
       "<table class=\"simpletable\">\n",
       "<tr>\n",
       "   <td></td>     <th>coef</th>     <th>std err</th>      <th>z</th>      <th>P>|z|</th>  <th>[0.025</th>    <th>0.975]</th>  \n",
       "</tr>\n",
       "<tr>\n",
       "  <th>x1</th> <td>    0.0007</td> <td>    0.001</td> <td>    0.585</td> <td> 0.559</td> <td>   -0.002</td> <td>    0.003</td>\n",
       "</tr>\n",
       "</table>\n",
       "<table class=\"simpletable\">\n",
       "<tr>\n",
       "  <th>Omnibus:</th>       <td> 0.367</td> <th>  Durbin-Watson:     </th> <td>   2.046</td>\n",
       "</tr>\n",
       "<tr>\n",
       "  <th>Prob(Omnibus):</th> <td> 0.833</td> <th>  Jarque-Bera (JB):  </th> <td>   0.096</td>\n",
       "</tr>\n",
       "<tr>\n",
       "  <th>Skew:</th>          <td> 0.048</td> <th>  Prob(JB):          </th> <td>   0.953</td>\n",
       "</tr>\n",
       "<tr>\n",
       "  <th>Kurtosis:</th>      <td> 3.117</td> <th>  Cond. No.          </th> <td>    1.00</td>\n",
       "</tr>\n",
       "</table><br/><br/>Notes:<br/>[1] R² is computed without centering (uncentered) since the model does not contain a constant.<br/>[2] Standard Errors are heteroscedasticity and autocorrelation robust (HAC) using 4 lags and without small sample correction"
      ],
      "text/latex": [
       "\\begin{center}\n",
       "\\begin{tabular}{lclc}\n",
       "\\toprule\n",
       "\\textbf{Dep. Variable:}    &        y         & \\textbf{  R-squared (uncentered):}      &     0.002   \\\\\n",
       "\\textbf{Model:}            &       OLS        & \\textbf{  Adj. R-squared (uncentered):} &    -0.008   \\\\\n",
       "\\textbf{Method:}           &  Least Squares   & \\textbf{  F-statistic:       }          &    0.3421   \\\\\n",
       "\\textbf{Date:}             & Wed, 01 Nov 2023 & \\textbf{  Prob (F-statistic):}          &    0.560    \\\\\n",
       "\\textbf{Time:}             &     17:25:45     & \\textbf{  Log-Likelihood:    }          &   -135.63   \\\\\n",
       "\\textbf{No. Observations:} &         100      & \\textbf{  AIC:               }          &     273.3   \\\\\n",
       "\\textbf{Df Residuals:}     &          99      & \\textbf{  BIC:               }          &     275.9   \\\\\n",
       "\\textbf{Df Model:}         &           1      & \\textbf{                     }          &             \\\\\n",
       "\\textbf{Covariance Type:}  &       HAC        & \\textbf{                     }          &             \\\\\n",
       "\\bottomrule\n",
       "\\end{tabular}\n",
       "\\begin{tabular}{lcccccc}\n",
       "            & \\textbf{coef} & \\textbf{std err} & \\textbf{z} & \\textbf{P$> |$z$|$} & \\textbf{[0.025} & \\textbf{0.975]}  \\\\\n",
       "\\midrule\n",
       "\\textbf{x1} &       0.0007  &        0.001     &     0.585  &         0.559        &       -0.002    &        0.003     \\\\\n",
       "\\bottomrule\n",
       "\\end{tabular}\n",
       "\\begin{tabular}{lclc}\n",
       "\\textbf{Omnibus:}       &  0.367 & \\textbf{  Durbin-Watson:     } &    2.046  \\\\\n",
       "\\textbf{Prob(Omnibus):} &  0.833 & \\textbf{  Jarque-Bera (JB):  } &    0.096  \\\\\n",
       "\\textbf{Skew:}          &  0.048 & \\textbf{  Prob(JB):          } &    0.953  \\\\\n",
       "\\textbf{Kurtosis:}      &  3.117 & \\textbf{  Cond. No.          } &     1.00  \\\\\n",
       "\\bottomrule\n",
       "\\end{tabular}\n",
       "%\\caption{OLS Regression Results}\n",
       "\\end{center}\n",
       "\n",
       "Notes: \\newline\n",
       " [1] R² is computed without centering (uncentered) since the model does not contain a constant. \\newline\n",
       " [2] Standard Errors are heteroscedasticity and autocorrelation robust (HAC) using 4 lags and without small sample correction"
      ],
      "text/plain": [
       "<class 'statsmodels.iolib.summary.Summary'>\n",
       "\"\"\"\n",
       "                                 OLS Regression Results                                \n",
       "=======================================================================================\n",
       "Dep. Variable:                      y   R-squared (uncentered):                   0.002\n",
       "Model:                            OLS   Adj. R-squared (uncentered):             -0.008\n",
       "Method:                 Least Squares   F-statistic:                             0.3421\n",
       "Date:                Wed, 01 Nov 2023   Prob (F-statistic):                       0.560\n",
       "Time:                        17:25:45   Log-Likelihood:                         -135.63\n",
       "No. Observations:                 100   AIC:                                      273.3\n",
       "Df Residuals:                      99   BIC:                                      275.9\n",
       "Df Model:                           1                                                  \n",
       "Covariance Type:                  HAC                                                  \n",
       "==============================================================================\n",
       "                 coef    std err          z      P>|z|      [0.025      0.975]\n",
       "------------------------------------------------------------------------------\n",
       "x1             0.0007      0.001      0.585      0.559      -0.002       0.003\n",
       "==============================================================================\n",
       "Omnibus:                        0.367   Durbin-Watson:                   2.046\n",
       "Prob(Omnibus):                  0.833   Jarque-Bera (JB):                0.096\n",
       "Skew:                           0.048   Prob(JB):                        0.953\n",
       "Kurtosis:                       3.117   Cond. No.                         1.00\n",
       "==============================================================================\n",
       "\n",
       "Notes:\n",
       "[1] R² is computed without centering (uncentered) since the model does not contain a constant.\n",
       "[2] Standard Errors are heteroscedasticity and autocorrelation robust (HAC) using 4 lags and without small sample correction\n",
       "\"\"\""
      ]
     },
     "execution_count": 256,
     "metadata": {},
     "output_type": "execute_result"
    }
   ],
   "source": [
    "Y =y_1\n",
    "X = x\n",
    "\n",
    "model_1 = sm.OLS(Y,X)\n",
    "fitted_model_1 = model_1.fit(cov_type='HAC',cov_kwds={'maxlags':4})\n",
    "fitted_model_1.summary()"
   ]
  },
  {
   "cell_type": "code",
   "execution_count": 257,
   "id": "dc35778f-439d-451e-974d-240bfb9106f7",
   "metadata": {
    "tags": []
   },
   "outputs": [
    {
     "name": "stdout",
     "output_type": "stream",
     "text": [
      "For the case tha rho eqquals to 0\n",
      "The OLS estimator is:  0.0007\n",
      "The t-stat is:  0.5849\n"
     ]
    }
   ],
   "source": [
    "print(\"For the case tha rho equals to 0\")\n",
    "print(\"The OLS estimator is: \", np.round(fitted_model_1.params[0],4))\n",
    "print(\"The t-stat is: \", np.round(fitted_model_1.tvalues[0],4))"
   ]
  },
  {
   "cell_type": "code",
   "execution_count": 258,
   "id": "99a602c9-c7e1-492a-8703-263cf9f61add",
   "metadata": {
    "tags": []
   },
   "outputs": [
    {
     "data": {
      "text/html": [
       "<table class=\"simpletable\">\n",
       "<caption>OLS Regression Results</caption>\n",
       "<tr>\n",
       "  <th>Dep. Variable:</th>            <td>y</td>        <th>  R-squared (uncentered):</th>      <td>   0.009</td>\n",
       "</tr>\n",
       "<tr>\n",
       "  <th>Model:</th>                   <td>OLS</td>       <th>  Adj. R-squared (uncentered):</th> <td>  -0.001</td>\n",
       "</tr>\n",
       "<tr>\n",
       "  <th>Method:</th>             <td>Least Squares</td>  <th>  F-statistic:       </th>          <td>  0.6760</td>\n",
       "</tr>\n",
       "<tr>\n",
       "  <th>Date:</th>             <td>Wed, 01 Nov 2023</td> <th>  Prob (F-statistic):</th>           <td> 0.413</td> \n",
       "</tr>\n",
       "<tr>\n",
       "  <th>Time:</th>                 <td>17:27:27</td>     <th>  Log-Likelihood:    </th>          <td> -142.66</td>\n",
       "</tr>\n",
       "<tr>\n",
       "  <th>No. Observations:</th>      <td>   100</td>      <th>  AIC:               </th>          <td>   287.3</td>\n",
       "</tr>\n",
       "<tr>\n",
       "  <th>Df Residuals:</th>          <td>    99</td>      <th>  BIC:               </th>          <td>   289.9</td>\n",
       "</tr>\n",
       "<tr>\n",
       "  <th>Df Model:</th>              <td>     1</td>      <th>                     </th>              <td> </td>   \n",
       "</tr>\n",
       "<tr>\n",
       "  <th>Covariance Type:</th>         <td>HAC</td>       <th>                     </th>              <td> </td>   \n",
       "</tr>\n",
       "</table>\n",
       "<table class=\"simpletable\">\n",
       "<tr>\n",
       "   <td></td>     <th>coef</th>     <th>std err</th>      <th>z</th>      <th>P>|z|</th>  <th>[0.025</th>    <th>0.975]</th>  \n",
       "</tr>\n",
       "<tr>\n",
       "  <th>x1</th> <td>    0.0016</td> <td>    0.002</td> <td>    0.822</td> <td> 0.411</td> <td>   -0.002</td> <td>    0.006</td>\n",
       "</tr>\n",
       "</table>\n",
       "<table class=\"simpletable\">\n",
       "<tr>\n",
       "  <th>Omnibus:</th>       <td> 1.580</td> <th>  Durbin-Watson:     </th> <td>   1.236</td>\n",
       "</tr>\n",
       "<tr>\n",
       "  <th>Prob(Omnibus):</th> <td> 0.454</td> <th>  Jarque-Bera (JB):  </th> <td>   1.246</td>\n",
       "</tr>\n",
       "<tr>\n",
       "  <th>Skew:</th>          <td> 0.271</td> <th>  Prob(JB):          </th> <td>   0.536</td>\n",
       "</tr>\n",
       "<tr>\n",
       "  <th>Kurtosis:</th>      <td> 3.077</td> <th>  Cond. No.          </th> <td>    1.00</td>\n",
       "</tr>\n",
       "</table><br/><br/>Notes:<br/>[1] R² is computed without centering (uncentered) since the model does not contain a constant.<br/>[2] Standard Errors are heteroscedasticity and autocorrelation robust (HAC) using 4 lags and without small sample correction"
      ],
      "text/latex": [
       "\\begin{center}\n",
       "\\begin{tabular}{lclc}\n",
       "\\toprule\n",
       "\\textbf{Dep. Variable:}    &        y         & \\textbf{  R-squared (uncentered):}      &     0.009   \\\\\n",
       "\\textbf{Model:}            &       OLS        & \\textbf{  Adj. R-squared (uncentered):} &    -0.001   \\\\\n",
       "\\textbf{Method:}           &  Least Squares   & \\textbf{  F-statistic:       }          &    0.6760   \\\\\n",
       "\\textbf{Date:}             & Wed, 01 Nov 2023 & \\textbf{  Prob (F-statistic):}          &    0.413    \\\\\n",
       "\\textbf{Time:}             &     17:27:27     & \\textbf{  Log-Likelihood:    }          &   -142.66   \\\\\n",
       "\\textbf{No. Observations:} &         100      & \\textbf{  AIC:               }          &     287.3   \\\\\n",
       "\\textbf{Df Residuals:}     &          99      & \\textbf{  BIC:               }          &     289.9   \\\\\n",
       "\\textbf{Df Model:}         &           1      & \\textbf{                     }          &             \\\\\n",
       "\\textbf{Covariance Type:}  &       HAC        & \\textbf{                     }          &             \\\\\n",
       "\\bottomrule\n",
       "\\end{tabular}\n",
       "\\begin{tabular}{lcccccc}\n",
       "            & \\textbf{coef} & \\textbf{std err} & \\textbf{z} & \\textbf{P$> |$z$|$} & \\textbf{[0.025} & \\textbf{0.975]}  \\\\\n",
       "\\midrule\n",
       "\\textbf{x1} &       0.0016  &        0.002     &     0.822  &         0.411        &       -0.002    &        0.006     \\\\\n",
       "\\bottomrule\n",
       "\\end{tabular}\n",
       "\\begin{tabular}{lclc}\n",
       "\\textbf{Omnibus:}       &  1.580 & \\textbf{  Durbin-Watson:     } &    1.236  \\\\\n",
       "\\textbf{Prob(Omnibus):} &  0.454 & \\textbf{  Jarque-Bera (JB):  } &    1.246  \\\\\n",
       "\\textbf{Skew:}          &  0.271 & \\textbf{  Prob(JB):          } &    0.536  \\\\\n",
       "\\textbf{Kurtosis:}      &  3.077 & \\textbf{  Cond. No.          } &     1.00  \\\\\n",
       "\\bottomrule\n",
       "\\end{tabular}\n",
       "%\\caption{OLS Regression Results}\n",
       "\\end{center}\n",
       "\n",
       "Notes: \\newline\n",
       " [1] R² is computed without centering (uncentered) since the model does not contain a constant. \\newline\n",
       " [2] Standard Errors are heteroscedasticity and autocorrelation robust (HAC) using 4 lags and without small sample correction"
      ],
      "text/plain": [
       "<class 'statsmodels.iolib.summary.Summary'>\n",
       "\"\"\"\n",
       "                                 OLS Regression Results                                \n",
       "=======================================================================================\n",
       "Dep. Variable:                      y   R-squared (uncentered):                   0.009\n",
       "Model:                            OLS   Adj. R-squared (uncentered):             -0.001\n",
       "Method:                 Least Squares   F-statistic:                             0.6760\n",
       "Date:                Wed, 01 Nov 2023   Prob (F-statistic):                       0.413\n",
       "Time:                        17:27:27   Log-Likelihood:                         -142.66\n",
       "No. Observations:                 100   AIC:                                      287.3\n",
       "Df Residuals:                      99   BIC:                                      289.9\n",
       "Df Model:                           1                                                  \n",
       "Covariance Type:                  HAC                                                  \n",
       "==============================================================================\n",
       "                 coef    std err          z      P>|z|      [0.025      0.975]\n",
       "------------------------------------------------------------------------------\n",
       "x1             0.0016      0.002      0.822      0.411      -0.002       0.006\n",
       "==============================================================================\n",
       "Omnibus:                        1.580   Durbin-Watson:                   1.236\n",
       "Prob(Omnibus):                  0.454   Jarque-Bera (JB):                1.246\n",
       "Skew:                           0.271   Prob(JB):                        0.536\n",
       "Kurtosis:                       3.077   Cond. No.                         1.00\n",
       "==============================================================================\n",
       "\n",
       "Notes:\n",
       "[1] R² is computed without centering (uncentered) since the model does not contain a constant.\n",
       "[2] Standard Errors are heteroscedasticity and autocorrelation robust (HAC) using 4 lags and without small sample correction\n",
       "\"\"\""
      ]
     },
     "execution_count": 258,
     "metadata": {},
     "output_type": "execute_result"
    }
   ],
   "source": [
    "Y =y_2\n",
    "X = x\n",
    "\n",
    "model_2 = sm.OLS(Y,X)\n",
    "fitted_model_2 = model_2.fit(cov_type='HAC',cov_kwds={'maxlags':4})\n",
    "fitted_model_2.summary()"
   ]
  },
  {
   "cell_type": "code",
   "execution_count": 259,
   "id": "78188cf7-fcfc-4322-92ae-6a0ef97ad26f",
   "metadata": {
    "tags": []
   },
   "outputs": [
    {
     "name": "stdout",
     "output_type": "stream",
     "text": [
      "For the case tha rho equals to 0.5\n",
      "The OLS estimator is:  0.0016\n",
      "The t-stat is:  0.8222\n"
     ]
    }
   ],
   "source": [
    "print(\"For the case tha rho equals to 0.5\")\n",
    "print(\"The OLS estimator is: \", np.round(fitted_model_2.params[0],4))\n",
    "print(\"The t-stat is: \", np.round(fitted_model_2.tvalues[0],4))"
   ]
  },
  {
   "cell_type": "code",
   "execution_count": 260,
   "id": "4cb0cc2f-60d8-4c0e-ae21-6a9167b18494",
   "metadata": {
    "tags": []
   },
   "outputs": [
    {
     "data": {
      "text/html": [
       "<table class=\"simpletable\">\n",
       "<caption>OLS Regression Results</caption>\n",
       "<tr>\n",
       "  <th>Dep. Variable:</th>            <td>y</td>        <th>  R-squared (uncentered):</th>      <td>   0.223</td>\n",
       "</tr>\n",
       "<tr>\n",
       "  <th>Model:</th>                   <td>OLS</td>       <th>  Adj. R-squared (uncentered):</th> <td>   0.216</td>\n",
       "</tr>\n",
       "<tr>\n",
       "  <th>Method:</th>             <td>Least Squares</td>  <th>  F-statistic:       </th>          <td>   8.646</td>\n",
       "</tr>\n",
       "<tr>\n",
       "  <th>Date:</th>             <td>Wed, 01 Nov 2023</td> <th>  Prob (F-statistic):</th>           <td>0.00408</td>\n",
       "</tr>\n",
       "<tr>\n",
       "  <th>Time:</th>                 <td>17:28:13</td>     <th>  Log-Likelihood:    </th>          <td> -193.46</td>\n",
       "</tr>\n",
       "<tr>\n",
       "  <th>No. Observations:</th>      <td>   100</td>      <th>  AIC:               </th>          <td>   388.9</td>\n",
       "</tr>\n",
       "<tr>\n",
       "  <th>Df Residuals:</th>          <td>    99</td>      <th>  BIC:               </th>          <td>   391.5</td>\n",
       "</tr>\n",
       "<tr>\n",
       "  <th>Df Model:</th>              <td>     1</td>      <th>                     </th>              <td> </td>   \n",
       "</tr>\n",
       "<tr>\n",
       "  <th>Covariance Type:</th>         <td>HAC</td>       <th>                     </th>              <td> </td>   \n",
       "</tr>\n",
       "</table>\n",
       "<table class=\"simpletable\">\n",
       "<tr>\n",
       "   <td></td>     <th>coef</th>     <th>std err</th>      <th>z</th>      <th>P>|z|</th>  <th>[0.025</th>    <th>0.975]</th>  \n",
       "</tr>\n",
       "<tr>\n",
       "  <th>x1</th> <td>    0.0154</td> <td>    0.005</td> <td>    2.940</td> <td> 0.003</td> <td>    0.005</td> <td>    0.026</td>\n",
       "</tr>\n",
       "</table>\n",
       "<table class=\"simpletable\">\n",
       "<tr>\n",
       "  <th>Omnibus:</th>       <td> 8.206</td> <th>  Durbin-Watson:     </th> <td>   0.328</td>\n",
       "</tr>\n",
       "<tr>\n",
       "  <th>Prob(Omnibus):</th> <td> 0.017</td> <th>  Jarque-Bera (JB):  </th> <td>   3.357</td>\n",
       "</tr>\n",
       "<tr>\n",
       "  <th>Skew:</th>          <td>-0.110</td> <th>  Prob(JB):          </th> <td>   0.187</td>\n",
       "</tr>\n",
       "<tr>\n",
       "  <th>Kurtosis:</th>      <td> 2.130</td> <th>  Cond. No.          </th> <td>    1.00</td>\n",
       "</tr>\n",
       "</table><br/><br/>Notes:<br/>[1] R² is computed without centering (uncentered) since the model does not contain a constant.<br/>[2] Standard Errors are heteroscedasticity and autocorrelation robust (HAC) using 4 lags and without small sample correction"
      ],
      "text/latex": [
       "\\begin{center}\n",
       "\\begin{tabular}{lclc}\n",
       "\\toprule\n",
       "\\textbf{Dep. Variable:}    &        y         & \\textbf{  R-squared (uncentered):}      &     0.223   \\\\\n",
       "\\textbf{Model:}            &       OLS        & \\textbf{  Adj. R-squared (uncentered):} &     0.216   \\\\\n",
       "\\textbf{Method:}           &  Least Squares   & \\textbf{  F-statistic:       }          &     8.646   \\\\\n",
       "\\textbf{Date:}             & Wed, 01 Nov 2023 & \\textbf{  Prob (F-statistic):}          &  0.00408    \\\\\n",
       "\\textbf{Time:}             &     17:28:13     & \\textbf{  Log-Likelihood:    }          &   -193.46   \\\\\n",
       "\\textbf{No. Observations:} &         100      & \\textbf{  AIC:               }          &     388.9   \\\\\n",
       "\\textbf{Df Residuals:}     &          99      & \\textbf{  BIC:               }          &     391.5   \\\\\n",
       "\\textbf{Df Model:}         &           1      & \\textbf{                     }          &             \\\\\n",
       "\\textbf{Covariance Type:}  &       HAC        & \\textbf{                     }          &             \\\\\n",
       "\\bottomrule\n",
       "\\end{tabular}\n",
       "\\begin{tabular}{lcccccc}\n",
       "            & \\textbf{coef} & \\textbf{std err} & \\textbf{z} & \\textbf{P$> |$z$|$} & \\textbf{[0.025} & \\textbf{0.975]}  \\\\\n",
       "\\midrule\n",
       "\\textbf{x1} &       0.0154  &        0.005     &     2.940  &         0.003        &        0.005    &        0.026     \\\\\n",
       "\\bottomrule\n",
       "\\end{tabular}\n",
       "\\begin{tabular}{lclc}\n",
       "\\textbf{Omnibus:}       &  8.206 & \\textbf{  Durbin-Watson:     } &    0.328  \\\\\n",
       "\\textbf{Prob(Omnibus):} &  0.017 & \\textbf{  Jarque-Bera (JB):  } &    3.357  \\\\\n",
       "\\textbf{Skew:}          & -0.110 & \\textbf{  Prob(JB):          } &    0.187  \\\\\n",
       "\\textbf{Kurtosis:}      &  2.130 & \\textbf{  Cond. No.          } &     1.00  \\\\\n",
       "\\bottomrule\n",
       "\\end{tabular}\n",
       "%\\caption{OLS Regression Results}\n",
       "\\end{center}\n",
       "\n",
       "Notes: \\newline\n",
       " [1] R² is computed without centering (uncentered) since the model does not contain a constant. \\newline\n",
       " [2] Standard Errors are heteroscedasticity and autocorrelation robust (HAC) using 4 lags and without small sample correction"
      ],
      "text/plain": [
       "<class 'statsmodels.iolib.summary.Summary'>\n",
       "\"\"\"\n",
       "                                 OLS Regression Results                                \n",
       "=======================================================================================\n",
       "Dep. Variable:                      y   R-squared (uncentered):                   0.223\n",
       "Model:                            OLS   Adj. R-squared (uncentered):              0.216\n",
       "Method:                 Least Squares   F-statistic:                              8.646\n",
       "Date:                Wed, 01 Nov 2023   Prob (F-statistic):                     0.00408\n",
       "Time:                        17:28:13   Log-Likelihood:                         -193.46\n",
       "No. Observations:                 100   AIC:                                      388.9\n",
       "Df Residuals:                      99   BIC:                                      391.5\n",
       "Df Model:                           1                                                  \n",
       "Covariance Type:                  HAC                                                  \n",
       "==============================================================================\n",
       "                 coef    std err          z      P>|z|      [0.025      0.975]\n",
       "------------------------------------------------------------------------------\n",
       "x1             0.0154      0.005      2.940      0.003       0.005       0.026\n",
       "==============================================================================\n",
       "Omnibus:                        8.206   Durbin-Watson:                   0.328\n",
       "Prob(Omnibus):                  0.017   Jarque-Bera (JB):                3.357\n",
       "Skew:                          -0.110   Prob(JB):                        0.187\n",
       "Kurtosis:                       2.130   Cond. No.                         1.00\n",
       "==============================================================================\n",
       "\n",
       "Notes:\n",
       "[1] R² is computed without centering (uncentered) since the model does not contain a constant.\n",
       "[2] Standard Errors are heteroscedasticity and autocorrelation robust (HAC) using 4 lags and without small sample correction\n",
       "\"\"\""
      ]
     },
     "execution_count": 260,
     "metadata": {},
     "output_type": "execute_result"
    }
   ],
   "source": [
    "Y =y_3\n",
    "X = x\n",
    "\n",
    "model_3 = sm.OLS(Y,X)\n",
    "fitted_model_3 = model_3.fit(cov_type='HAC',cov_kwds={'maxlags':4})\n",
    "fitted_model_3.summary()"
   ]
  },
  {
   "cell_type": "code",
   "execution_count": 261,
   "id": "9b2db0b4-1e4f-48db-9e8a-dc5c7843653a",
   "metadata": {
    "tags": []
   },
   "outputs": [
    {
     "name": "stdout",
     "output_type": "stream",
     "text": [
      "For the case tha rho equals to 0.95\n",
      "The OLS estimator is:  0.0154\n",
      "The t-stat is:  2.9404\n"
     ]
    }
   ],
   "source": [
    "print(\"For the case tha rho equals to 0.95\")\n",
    "print(\"The OLS estimator is: \", np.round(fitted_model_3.params[0],4))\n",
    "print(\"The t-stat is: \", np.round(fitted_model_3.tvalues[0],4))"
   ]
  },
  {
   "cell_type": "markdown",
   "id": "89207aa2-2fc3-4e50-a5a0-d3b0723f22c7",
   "metadata": {},
   "source": [
    "Again, at 5% of sig. level, we fail to reject H0 for $\\rho$ = 0 and $\\rho$ = 0.5, whereas we are able to reject H0 for $\\rho$ = 0.95."
   ]
  },
  {
   "cell_type": "markdown",
   "id": "842576ac-7680-476a-b245-228f1e27460f",
   "metadata": {},
   "source": [
    "When $\\rho$ = 0, we have t_OLS = 0.4558 and t_NW = 0.5849. \n",
    "<br>Newey-West method recognizes some of the noise\n",
    "as serial correlation, wrongly overestimating the t-statistic."
   ]
  },
  {
   "cell_type": "markdown",
   "id": "8d25ecf1-7b4d-4100-843d-337aec3b1708",
   "metadata": {},
   "source": [
    " When $\\rho$ = 0.5, we have t_OLS = 0.9466 and t_NW = 0.8222.\n",
    " <br> When $\\rho$ = 0.95, we have t_OLS = 5.338 and t_NW = 2.9404.\n",
    " <br> For $\\rho$ > 0, OLS method underestimate the true standard errors, which reflects in higher values for the t-statistics vs Newey-West method."
   ]
  },
  {
   "cell_type": "code",
   "execution_count": null,
   "id": "cfc711a7-1217-47cf-a8ed-ad822db4aa8a",
   "metadata": {},
   "outputs": [],
   "source": []
  }
 ],
 "metadata": {
  "kernelspec": {
   "display_name": "Python 3 (ipykernel)",
   "language": "python",
   "name": "python3"
  },
  "language_info": {
   "codemirror_mode": {
    "name": "ipython",
    "version": 3
   },
   "file_extension": ".py",
   "mimetype": "text/x-python",
   "name": "python",
   "nbconvert_exporter": "python",
   "pygments_lexer": "ipython3",
   "version": "3.11.5"
  }
 },
 "nbformat": 4,
 "nbformat_minor": 5
}
